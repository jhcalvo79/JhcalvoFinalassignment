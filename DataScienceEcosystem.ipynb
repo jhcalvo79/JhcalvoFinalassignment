{
 "cells": [
  {
   "cell_type": "markdown",
   "id": "79a1ac1b-1a86-446d-9fa5-f546d5209a9c",
   "metadata": {},
   "source": [
    "# Data Science Ecosystem"
   ]
  },
  {
   "cell_type": "markdown",
   "id": "07a7dfe2-8ee7-419e-9eb0-3d8c9590bf62",
   "metadata": {},
   "source": [
    "## Introduction\n",
    "In this notebook, Data Science Tools are summarizer."
   ]
  },
  {
   "cell_type": "markdown",
   "id": "902a78df-bf2d-4c69-a691-5333751ce099",
   "metadata": {},
   "source": [
    "# \"\"Objetives\"\"\n",
    "\n",
    "- Learn some of the popular languages that Data Scientist use\n",
    "- Learn some used libraries used by Data Scientist\n",
    "- Learn Data Science Tools\n",
    "- Learn examples of aritmetic expressions in Python\n",
    "- Learn how to convert 200 minutes into hours\n"
   ]
  },
  {
   "cell_type": "markdown",
   "id": "f7f32b80-63b7-46a4-80a0-7449a102bae7",
   "metadata": {},
   "source": [
    "## Some of the popular languages that Data Scientists use are:\n",
    "1. Python\n",
    "2. R\n",
    "3. SQL\n",
    "4. Julia\n",
    "5. Scala"
   ]
  },
  {
   "cell_type": "markdown",
   "id": "88d2b89f-0eba-4024-97d5-05b54252c638",
   "metadata": {},
   "source": [
    "## Some of the commonly used libraries used by Data Scientist include:\n",
    "1. Pandas\n",
    "2. Numpy\n",
    "3. Scipy\n",
    "4. TensorFlow\n",
    "5. Matplotlib"
   ]
  },
  {
   "cell_type": "markdown",
   "id": "da4decde-b5a2-4999-b6c3-fae997012866",
   "metadata": {},
   "source": [
    "## Data Science Tools\n",
    "|Data Science Tools|\n",
    "|----------------|\n",
    "|Jupyter Nootebook|\n",
    "|Rs Studio|\n",
    "|Vs Code|\n",
    "|Anaconda1"
   ]
  },
  {
   "cell_type": "markdown",
   "id": "fbb120b8-3a8a-4186-a9d2-ae670a0ae279",
   "metadata": {},
   "source": [
    "### Below are a few examples of evaluating arithmetic expressions in Python"
   ]
  },
  {
   "cell_type": "code",
   "execution_count": 1,
   "id": "a5ec9311-37ea-4c4c-a1d0-d4a02fdffff1",
   "metadata": {},
   "outputs": [
    {
     "data": {
      "text/plain": [
       "17"
      ]
     },
     "execution_count": 1,
     "metadata": {},
     "output_type": "execute_result"
    }
   ],
   "source": [
    "#This is a simple arithmetic expression to mutiply then add integers\n",
    "\n",
    "(3*4)+5"
   ]
  },
  {
   "cell_type": "markdown",
   "id": "b4699963-502f-4a19-9cee-647e8114ba56",
   "metadata": {},
   "source": [
    "# This will convert 200 minutes into hour by diving by 60\n",
    "minutes = 200\n",
    "hours = minutes / 60\n",
    "\n",
    "print(f\"{minutes} minutes is equal to {hours} hours.\")\n"
   ]
  },
  {
   "cell_type": "markdown",
   "id": "4baf065e-be14-449e-9c0e-ef972b75fb4b",
   "metadata": {},
   "source": [
    "## Author\n",
    "\"\"\"Jorge Hernan Calvo\"\"\""
   ]
  },
  {
   "cell_type": "code",
   "execution_count": null,
   "id": "dafdc2f7-6624-4eb3-968e-42c618e006dc",
   "metadata": {},
   "outputs": [],
   "source": []
  }
 ],
 "metadata": {
  "kernelspec": {
   "display_name": "Python 3 (ipykernel)",
   "language": "python",
   "name": "python3"
  },
  "language_info": {
   "codemirror_mode": {
    "name": "ipython",
    "version": 3
   },
   "file_extension": ".py",
   "mimetype": "text/x-python",
   "name": "python",
   "nbconvert_exporter": "python",
   "pygments_lexer": "ipython3",
   "version": "3.12.4"
  }
 },
 "nbformat": 4,
 "nbformat_minor": 5
}
